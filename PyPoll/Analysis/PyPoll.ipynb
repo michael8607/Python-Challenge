{
 "cells": [
  {
   "cell_type": "code",
   "execution_count": 1,
   "metadata": {},
   "outputs": [],
   "source": [
    "import pandas as pd"
   ]
  },
  {
   "cell_type": "code",
   "execution_count": 2,
   "metadata": {},
   "outputs": [
    {
     "data": {
      "text/html": [
       "<div>\n",
       "<style scoped>\n",
       "    .dataframe tbody tr th:only-of-type {\n",
       "        vertical-align: middle;\n",
       "    }\n",
       "\n",
       "    .dataframe tbody tr th {\n",
       "        vertical-align: top;\n",
       "    }\n",
       "\n",
       "    .dataframe thead th {\n",
       "        text-align: right;\n",
       "    }\n",
       "</style>\n",
       "<table border=\"1\" class=\"dataframe\">\n",
       "  <thead>\n",
       "    <tr style=\"text-align: right;\">\n",
       "      <th></th>\n",
       "      <th>Ballot ID</th>\n",
       "      <th>County</th>\n",
       "      <th>Candidate</th>\n",
       "    </tr>\n",
       "  </thead>\n",
       "  <tbody>\n",
       "    <tr>\n",
       "      <th>0</th>\n",
       "      <td>1323913</td>\n",
       "      <td>Jefferson</td>\n",
       "      <td>Charles Casper Stockham</td>\n",
       "    </tr>\n",
       "    <tr>\n",
       "      <th>1</th>\n",
       "      <td>1005842</td>\n",
       "      <td>Jefferson</td>\n",
       "      <td>Charles Casper Stockham</td>\n",
       "    </tr>\n",
       "    <tr>\n",
       "      <th>2</th>\n",
       "      <td>1880345</td>\n",
       "      <td>Jefferson</td>\n",
       "      <td>Charles Casper Stockham</td>\n",
       "    </tr>\n",
       "    <tr>\n",
       "      <th>3</th>\n",
       "      <td>1600337</td>\n",
       "      <td>Jefferson</td>\n",
       "      <td>Charles Casper Stockham</td>\n",
       "    </tr>\n",
       "    <tr>\n",
       "      <th>4</th>\n",
       "      <td>1835994</td>\n",
       "      <td>Jefferson</td>\n",
       "      <td>Charles Casper Stockham</td>\n",
       "    </tr>\n",
       "  </tbody>\n",
       "</table>\n",
       "</div>"
      ],
      "text/plain": [
       "   Ballot ID     County                Candidate\n",
       "0    1323913  Jefferson  Charles Casper Stockham\n",
       "1    1005842  Jefferson  Charles Casper Stockham\n",
       "2    1880345  Jefferson  Charles Casper Stockham\n",
       "3    1600337  Jefferson  Charles Casper Stockham\n",
       "4    1835994  Jefferson  Charles Casper Stockham"
      ]
     },
     "execution_count": 2,
     "metadata": {},
     "output_type": "execute_result"
    }
   ],
   "source": [
    "PyPoll_file_path = r'C:\\Users\\micha\\Desktop\\Data_Analytics\\python challenge\\PyPoll\\Resources\\election_data.csv'\n",
    "\n",
    "PyPoll = pd.read_csv(PyPoll_file_path)\n",
    "PyPoll.head()"
   ]
  },
  {
   "cell_type": "code",
   "execution_count": 6,
   "metadata": {},
   "outputs": [
    {
     "data": {
      "text/plain": [
       "369711"
      ]
     },
     "execution_count": 6,
     "metadata": {},
     "output_type": "execute_result"
    }
   ],
   "source": [
    "# The total number of votes cast\n",
    "total_votes = len(PyPoll[\"Ballot ID\"])\n",
    "total_votes"
   ]
  },
  {
   "cell_type": "code",
   "execution_count": 4,
   "metadata": {},
   "outputs": [
    {
     "data": {
      "text/plain": [
       "array(['Charles Casper Stockham', 'Diana DeGette', 'Raymon Anthony Doane'],\n",
       "      dtype=object)"
      ]
     },
     "execution_count": 4,
     "metadata": {},
     "output_type": "execute_result"
    }
   ],
   "source": [
    "# A complete list of candidates that receive votes\n",
    "candidate_list = PyPoll[\"Candidate\"].unique()\n",
    "candidate_list"
   ]
  },
  {
   "cell_type": "code",
   "execution_count": 17,
   "metadata": {},
   "outputs": [
    {
     "name": "stdout",
     "output_type": "stream",
     "text": [
      "Charles Casper Stockham: 23.04854332167558%, 85213\n",
      "Diana DeGette: 73.81224794501652%, 272892\n",
      "Raymon Anthony Doane: 3.1392087333079077%, 11606\n"
     ]
    }
   ],
   "source": [
    "# The percentage of votes each candidate won\n",
    "\n",
    "charles = \"Charles Casper Stockham\"\n",
    "diana = \"Diana DeGette\"\n",
    "raymon = \"Raymon Anthony Doane\"\n",
    "\n",
    "#total votes each candidate won\n",
    "\n",
    "charles_count = PyPoll[\"Candidate\"].value_counts()[charles]\n",
    "diana_count = PyPoll[\"Candidate\"].value_counts()[diana]\n",
    "raymon_count = PyPoll[\"Candidate\"].value_counts()[raymon]\n",
    "\n",
    "charles_share = (charles_count / len(PyPoll[\"Candidate\"])) * 100\n",
    "diana_share = (diana_count / len(PyPoll[\"Candidate\"])) * 100\n",
    "raymon_share = (raymon_count / len(PyPoll[\"Candidate\"])) * 100\n",
    "\n",
    "#print the percentage and total number of votes won\n",
    "\n",
    "print(f'Charles Casper Stockham: {charles_share}%, {charles_count}')\n",
    "print(f'Diana DeGette: {diana_share}%, {diana_count}')\n",
    "print(f'Raymon Anthony Doane: {raymon_share}%, {raymon_count}')"
   ]
  },
  {
   "cell_type": "code",
   "execution_count": 25,
   "metadata": {},
   "outputs": [
    {
     "data": {
      "text/plain": [
       "'Diana DeGette'"
      ]
     },
     "execution_count": 25,
     "metadata": {},
     "output_type": "execute_result"
    }
   ],
   "source": [
    "# The winner of the election based on popular vote\n",
    "winner = diana\n",
    "winner"
   ]
  },
  {
   "cell_type": "code",
   "execution_count": 19,
   "metadata": {},
   "outputs": [],
   "source": [
    "text_file_path = r'C:\\Users\\micha\\Desktop\\Data_Analytics\\python challenge\\PyPoll\\Analysis\\PyPoll.txt'"
   ]
  },
  {
   "cell_type": "code",
   "execution_count": 24,
   "metadata": {},
   "outputs": [],
   "source": [
    "#write the results to the analysis in a text file\n",
    "\n",
    "with open(text_file_path, 'w') as file:\n",
    "    file.write('Election Results\\n')\n",
    "    file.write(f\"Total Votes: {total_votes}\\n\")\n",
    "    file.write(f'Charles Casper Stockham: {charles_share}%, ({charles_count})\\n')\n",
    "    file.write(f'Diana DeGette: {diana_share}%, ({diana_count})\\n')\n",
    "    file.write(f'Raymon Anthony Doane: {raymon_share}%, ({raymon_count})\\n')\n",
    "    file.write(f'Winner: {diana}')"
   ]
  }
 ],
 "metadata": {
  "kernelspec": {
   "display_name": "Python 3",
   "language": "python",
   "name": "python3"
  },
  "language_info": {
   "codemirror_mode": {
    "name": "ipython",
    "version": 3
   },
   "file_extension": ".py",
   "mimetype": "text/x-python",
   "name": "python",
   "nbconvert_exporter": "python",
   "pygments_lexer": "ipython3",
   "version": "3.12.1"
  }
 },
 "nbformat": 4,
 "nbformat_minor": 2
}
